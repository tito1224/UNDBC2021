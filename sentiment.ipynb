{
 "metadata": {
  "language_info": {
   "codemirror_mode": {
    "name": "ipython",
    "version": 3
   },
   "file_extension": ".py",
   "mimetype": "text/x-python",
   "name": "python",
   "nbconvert_exporter": "python",
   "pygments_lexer": "ipython3",
   "version": "3.8.0"
  },
  "orig_nbformat": 4,
  "kernelspec": {
   "name": "python380jvsc74a57bd0b05593683eb049352217448b79d427b9e314804a7d270a1db871176b515a2fb0",
   "display_name": "Python 3.8.0 64-bit ('Code': venv)",
   "language": "python"
  },
  "interpreter": {
   "hash": "a2b8e5262dd350931f5928fe207cd5c82f1ec7f08883a5dd5ee7836c51260db6"
  }
 },
 "nbformat": 4,
 "nbformat_minor": 2,
 "cells": [
  {
   "cell_type": "code",
   "execution_count": 28,
   "metadata": {},
   "outputs": [
    {
     "output_type": "stream",
     "name": "stderr",
     "text": [
      "[nltk_data] Downloading package stopwords to\n[nltk_data]     C:\\Users\\titom\\AppData\\Roaming\\nltk_data...\n[nltk_data]   Package stopwords is already up-to-date!\n"
     ]
    }
   ],
   "source": [
    "# import packages\n",
    "import pandas as pd\n",
    "import numpy as np\n",
    "import matplotlib.pyplot as plt\n",
    "import seaborn as sns\n",
    "from datetime import datetime\n",
    "\n",
    "from sklearn.model_selection import train_test_split, cross_validate\n",
    "from sklearn.linear_model import LinearRegression, LogisticRegression\n",
    "from sklearn.preprocessing import OneHotEncoder, PolynomialFeatures, StandardScaler, LabelEncoder\n",
    "from sklearn.metrics import confusion_matrix, accuracy_score, roc_auc_score, roc_curve, auc, plot_precision_recall_curve, make_scorer, recall_score, brier_score_loss, precision_score, f1_score\n",
    "from sklearn.compose import ColumnTransformer\n",
    "from sklearn.tree import DecisionTreeRegressor, DecisionTreeClassifier\n",
    "from sklearn.ensemble import RandomForestRegressor, RandomForestClassifier, AdaBoostClassifier\n",
    "from sklearn.neighbors import KNeighborsClassifier\n",
    "from sklearn.svm import SVC\n",
    "from sklearn.feature_extraction.text import CountVectorizer, TfidfTransformer, TfidfVectorizer\n",
    "from sklearn.model_selection import cross_val_score, GridSearchCV\n",
    "from sklearn.pipeline import make_pipeline\n",
    "from sklearn.metrics import classification_report\n",
    "\n",
    "# libraries for cleaning\n",
    "import re\n",
    "import nltk\n",
    "nltk.download(\"stopwords\") # helps us get rid of stop words\n",
    "from nltk.corpus import stopwords\n",
    "from nltk.stem.porter import PorterStemmer\n",
    "\n",
    "# tensorflow stuff\n",
    "import tensorflow as tf\n"
   ]
  },
  {
   "cell_type": "code",
   "execution_count": 29,
   "metadata": {},
   "outputs": [],
   "source": [
    "df = pd.read_csv(\"text_preprocessed.csv\")\n",
    "df = df.loc[:,[\"text\",\"label\"]]"
   ]
  },
  {
   "cell_type": "code",
   "execution_count": 30,
   "metadata": {},
   "outputs": [
    {
     "output_type": "execute_result",
     "data": {
      "text/plain": [
       "                                                text  label\n",
       "0  coronavirus outbreak live updates  odisha conf...      0\n",
       "1  for today  may    here s how to follow the lat...      0\n",
       "2  coronavirus outbreak  round the clock updates ...      0\n",
       "3  watch live  gov  phil murphy will speak at   p...      0\n",
       "4  to all my friends in the people s republic of ...      0"
      ],
      "text/html": "<div>\n<style scoped>\n    .dataframe tbody tr th:only-of-type {\n        vertical-align: middle;\n    }\n\n    .dataframe tbody tr th {\n        vertical-align: top;\n    }\n\n    .dataframe thead th {\n        text-align: right;\n    }\n</style>\n<table border=\"1\" class=\"dataframe\">\n  <thead>\n    <tr style=\"text-align: right;\">\n      <th></th>\n      <th>text</th>\n      <th>label</th>\n    </tr>\n  </thead>\n  <tbody>\n    <tr>\n      <th>0</th>\n      <td>coronavirus outbreak live updates  odisha conf...</td>\n      <td>0</td>\n    </tr>\n    <tr>\n      <th>1</th>\n      <td>for today  may    here s how to follow the lat...</td>\n      <td>0</td>\n    </tr>\n    <tr>\n      <th>2</th>\n      <td>coronavirus outbreak  round the clock updates ...</td>\n      <td>0</td>\n    </tr>\n    <tr>\n      <th>3</th>\n      <td>watch live  gov  phil murphy will speak at   p...</td>\n      <td>0</td>\n    </tr>\n    <tr>\n      <th>4</th>\n      <td>to all my friends in the people s republic of ...</td>\n      <td>0</td>\n    </tr>\n  </tbody>\n</table>\n</div>"
     },
     "metadata": {},
     "execution_count": 30
    }
   ],
   "source": [
    "df.head()"
   ]
  },
  {
   "cell_type": "code",
   "execution_count": 31,
   "metadata": {},
   "outputs": [
    {
     "output_type": "stream",
     "name": "stdout",
     "text": [
      "<class 'pandas.core.frame.DataFrame'>\nRangeIndex: 221461 entries, 0 to 221460\nData columns (total 2 columns):\n #   Column  Non-Null Count   Dtype \n---  ------  --------------   ----- \n 0   text    221461 non-null  object\n 1   label   221461 non-null  int64 \ndtypes: int64(1), object(1)\nmemory usage: 3.4+ MB\n"
     ]
    }
   ],
   "source": [
    "df.info()"
   ]
  },
  {
   "source": [
    "# VaderSentiment \n",
    "\n",
    "I will be using the vader sentiment package to perform some quick sentiment analysis. The link to the github is here: https://github.com/cjhutto/vaderSentiment#python-demo-and-code-examples\n",
    "\n",
    "VaderSentiment is a rule based sentiment analysis tool that is specifically for social media. So it works perfectly with our twitter data. \n",
    "\n",
    "\n",
    "For activating virtual environment: https://stackoverflow.com/questions/58433333/auto-activate-virtual-environment-in-visual-studio-code"
   ],
   "cell_type": "markdown",
   "metadata": {}
  },
  {
   "cell_type": "code",
   "execution_count": 32,
   "metadata": {},
   "outputs": [],
   "source": [
    "from vaderSentiment.vaderSentiment import SentimentIntensityAnalyzer"
   ]
  },
  {
   "cell_type": "code",
   "execution_count": 33,
   "metadata": {},
   "outputs": [],
   "source": [
    "model_sm = SentimentIntensityAnalyzer()"
   ]
  },
  {
   "cell_type": "code",
   "execution_count": 34,
   "metadata": {},
   "outputs": [],
   "source": [
    "final_scores = []\n",
    "X = df.text\n",
    "for phrase in X: \n",
    "    scores = model_sm.polarity_scores(phrase)\n",
    "    compound_scores = scores[\"compound\"]\n",
    "    final_scores.append(compound_scores)"
   ]
  },
  {
   "cell_type": "code",
   "execution_count": 35,
   "metadata": {
    "tags": []
   },
   "outputs": [
    {
     "output_type": "stream",
     "name": "stdout",
     "text": [
      "[-0.0772, 0.0, 0.0, 0.0, 0.4767, 0.0, 0.0, 0.1779, 0.0, 0.0]\nThe average sentiment of the dataset is 0.08583677035685744\n"
     ]
    }
   ],
   "source": [
    "print(final_scores[:10])\n",
    "print(f\"The average sentiment of the dataset is {np.mean(final_scores)}\")"
   ]
  },
  {
   "source": [
    "In research, the compound score is used. And then it is binned to be positive, negative, or neutral. The boundaries for the binning is as follows: \n",
    "\n",
    "- positive sentiment: score >= 0.05\n",
    "- neutral sentiment: -0.05 < score < 0.05\n",
    "- negative sentiment: score <= -0.05\n"
   ],
   "cell_type": "markdown",
   "metadata": {}
  },
  {
   "cell_type": "code",
   "execution_count": 36,
   "metadata": {},
   "outputs": [
    {
     "output_type": "execute_result",
     "data": {
      "text/plain": [
       "                                                text  label  raw_sentiment\n",
       "0  coronavirus outbreak live updates  odisha conf...      0        -0.0772\n",
       "1  for today  may    here s how to follow the lat...      0         0.0000\n",
       "2  coronavirus outbreak  round the clock updates ...      0         0.0000\n",
       "3  watch live  gov  phil murphy will speak at   p...      0         0.0000\n",
       "4  to all my friends in the people s republic of ...      0         0.4767"
      ],
      "text/html": "<div>\n<style scoped>\n    .dataframe tbody tr th:only-of-type {\n        vertical-align: middle;\n    }\n\n    .dataframe tbody tr th {\n        vertical-align: top;\n    }\n\n    .dataframe thead th {\n        text-align: right;\n    }\n</style>\n<table border=\"1\" class=\"dataframe\">\n  <thead>\n    <tr style=\"text-align: right;\">\n      <th></th>\n      <th>text</th>\n      <th>label</th>\n      <th>raw_sentiment</th>\n    </tr>\n  </thead>\n  <tbody>\n    <tr>\n      <th>0</th>\n      <td>coronavirus outbreak live updates  odisha conf...</td>\n      <td>0</td>\n      <td>-0.0772</td>\n    </tr>\n    <tr>\n      <th>1</th>\n      <td>for today  may    here s how to follow the lat...</td>\n      <td>0</td>\n      <td>0.0000</td>\n    </tr>\n    <tr>\n      <th>2</th>\n      <td>coronavirus outbreak  round the clock updates ...</td>\n      <td>0</td>\n      <td>0.0000</td>\n    </tr>\n    <tr>\n      <th>3</th>\n      <td>watch live  gov  phil murphy will speak at   p...</td>\n      <td>0</td>\n      <td>0.0000</td>\n    </tr>\n    <tr>\n      <th>4</th>\n      <td>to all my friends in the people s republic of ...</td>\n      <td>0</td>\n      <td>0.4767</td>\n    </tr>\n  </tbody>\n</table>\n</div>"
     },
     "metadata": {},
     "execution_count": 36
    }
   ],
   "source": [
    "# make the scores a new column \n",
    "df[\"raw_sentiment\"] = final_scores\n",
    "df.head()"
   ]
  },
  {
   "cell_type": "code",
   "execution_count": 37,
   "metadata": {},
   "outputs": [],
   "source": [
    "# based on the binnings mentioned above im going to create a new column with the groups \n",
    "pos_bool = df.raw_sentiment > 0.05\n",
    "neutral_bool = (df.raw_sentiment > -0.05) & (df.raw_sentiment < 0.05)\n",
    "negative_bool = df.raw_sentiment < -0.05"
   ]
  },
  {
   "cell_type": "code",
   "execution_count": 38,
   "metadata": {},
   "outputs": [
    {
     "output_type": "execute_result",
     "data": {
      "text/plain": [
       "                                                text  label  raw_sentiment  \\\n",
       "0  coronavirus outbreak live updates  odisha conf...      0        -0.0772   \n",
       "1  for today  may    here s how to follow the lat...      0         0.0000   \n",
       "2  coronavirus outbreak  round the clock updates ...      0         0.0000   \n",
       "3  watch live  gov  phil murphy will speak at   p...      0         0.0000   \n",
       "4  to all my friends in the people s republic of ...      0         0.4767   \n",
       "\n",
       "   sentiment  \n",
       "0          0  \n",
       "1          0  \n",
       "2          0  \n",
       "3          0  \n",
       "4          0  "
      ],
      "text/html": "<div>\n<style scoped>\n    .dataframe tbody tr th:only-of-type {\n        vertical-align: middle;\n    }\n\n    .dataframe tbody tr th {\n        vertical-align: top;\n    }\n\n    .dataframe thead th {\n        text-align: right;\n    }\n</style>\n<table border=\"1\" class=\"dataframe\">\n  <thead>\n    <tr style=\"text-align: right;\">\n      <th></th>\n      <th>text</th>\n      <th>label</th>\n      <th>raw_sentiment</th>\n      <th>sentiment</th>\n    </tr>\n  </thead>\n  <tbody>\n    <tr>\n      <th>0</th>\n      <td>coronavirus outbreak live updates  odisha conf...</td>\n      <td>0</td>\n      <td>-0.0772</td>\n      <td>0</td>\n    </tr>\n    <tr>\n      <th>1</th>\n      <td>for today  may    here s how to follow the lat...</td>\n      <td>0</td>\n      <td>0.0000</td>\n      <td>0</td>\n    </tr>\n    <tr>\n      <th>2</th>\n      <td>coronavirus outbreak  round the clock updates ...</td>\n      <td>0</td>\n      <td>0.0000</td>\n      <td>0</td>\n    </tr>\n    <tr>\n      <th>3</th>\n      <td>watch live  gov  phil murphy will speak at   p...</td>\n      <td>0</td>\n      <td>0.0000</td>\n      <td>0</td>\n    </tr>\n    <tr>\n      <th>4</th>\n      <td>to all my friends in the people s republic of ...</td>\n      <td>0</td>\n      <td>0.4767</td>\n      <td>0</td>\n    </tr>\n  </tbody>\n</table>\n</div>"
     },
     "metadata": {},
     "execution_count": 38
    }
   ],
   "source": [
    "df[\"sentiment\"] = 0\n",
    "df.head()"
   ]
  },
  {
   "cell_type": "code",
   "execution_count": 39,
   "metadata": {},
   "outputs": [
    {
     "output_type": "execute_result",
     "data": {
      "text/plain": [
       "                                                text  label  raw_sentiment  \\\n",
       "0  coronavirus outbreak live updates  odisha conf...      0        -0.0772   \n",
       "1  for today  may    here s how to follow the lat...      0         0.0000   \n",
       "2  coronavirus outbreak  round the clock updates ...      0         0.0000   \n",
       "3  watch live  gov  phil murphy will speak at   p...      0         0.0000   \n",
       "4  to all my friends in the people s republic of ...      0         0.4767   \n",
       "\n",
       "   sentiment  \n",
       "0         -1  \n",
       "1          0  \n",
       "2          0  \n",
       "3          0  \n",
       "4          1  "
      ],
      "text/html": "<div>\n<style scoped>\n    .dataframe tbody tr th:only-of-type {\n        vertical-align: middle;\n    }\n\n    .dataframe tbody tr th {\n        vertical-align: top;\n    }\n\n    .dataframe thead th {\n        text-align: right;\n    }\n</style>\n<table border=\"1\" class=\"dataframe\">\n  <thead>\n    <tr style=\"text-align: right;\">\n      <th></th>\n      <th>text</th>\n      <th>label</th>\n      <th>raw_sentiment</th>\n      <th>sentiment</th>\n    </tr>\n  </thead>\n  <tbody>\n    <tr>\n      <th>0</th>\n      <td>coronavirus outbreak live updates  odisha conf...</td>\n      <td>0</td>\n      <td>-0.0772</td>\n      <td>-1</td>\n    </tr>\n    <tr>\n      <th>1</th>\n      <td>for today  may    here s how to follow the lat...</td>\n      <td>0</td>\n      <td>0.0000</td>\n      <td>0</td>\n    </tr>\n    <tr>\n      <th>2</th>\n      <td>coronavirus outbreak  round the clock updates ...</td>\n      <td>0</td>\n      <td>0.0000</td>\n      <td>0</td>\n    </tr>\n    <tr>\n      <th>3</th>\n      <td>watch live  gov  phil murphy will speak at   p...</td>\n      <td>0</td>\n      <td>0.0000</td>\n      <td>0</td>\n    </tr>\n    <tr>\n      <th>4</th>\n      <td>to all my friends in the people s republic of ...</td>\n      <td>0</td>\n      <td>0.4767</td>\n      <td>1</td>\n    </tr>\n  </tbody>\n</table>\n</div>"
     },
     "metadata": {},
     "execution_count": 39
    }
   ],
   "source": [
    "df.loc[pos_bool,\"sentiment\"] = 1\n",
    "df.loc[neutral_bool,\"sentiment\"] = 0\n",
    "df.loc[negative_bool,\"sentiment\"] = -1\n",
    "df.head()"
   ]
  },
  {
   "cell_type": "code",
   "execution_count": 40,
   "metadata": {},
   "outputs": [
    {
     "output_type": "stream",
     "name": "stdout",
     "text": [
      "<class 'pandas.core.frame.DataFrame'>\nRangeIndex: 221461 entries, 0 to 221460\nData columns (total 4 columns):\n #   Column         Non-Null Count   Dtype  \n---  ------         --------------   -----  \n 0   text           221461 non-null  object \n 1   label          221461 non-null  int64  \n 2   raw_sentiment  221461 non-null  float64\n 3   sentiment      221461 non-null  int64  \ndtypes: float64(1), int64(2), object(1)\nmemory usage: 6.8+ MB\n"
     ]
    }
   ],
   "source": [
    "# export \n",
    "df.info()\n",
    "df.to_csv(\"text_preprocessed_sentiment.csv\")"
   ]
  },
  {
   "cell_type": "code",
   "execution_count": 41,
   "metadata": {},
   "outputs": [],
   "source": [
    "# probabilities merged with sentiment \n",
    "probs = pd.read_csv(\"rnn_probabilities_final.csv\")"
   ]
  },
  {
   "cell_type": "code",
   "execution_count": 42,
   "metadata": {},
   "outputs": [
    {
     "output_type": "execute_result",
     "data": {
      "text/plain": [
       "   Unnamed: 0                                               text  label  \\\n",
       "0           0  coronavirus outbreak live updates  odisha conf...      0   \n",
       "1           1  for today  may    here s how to follow the lat...      0   \n",
       "2           2  coronavirus outbreak  round the clock updates ...      0   \n",
       "3           3  watch live  gov  phil murphy will speak at   p...      0   \n",
       "4           4  to all my friends in the people s republic of ...      0   \n",
       "\n",
       "   probabilities  \n",
       "0       0.000490  \n",
       "1       0.011021  \n",
       "2       0.015877  \n",
       "3       0.001323  \n",
       "4       0.001574  "
      ],
      "text/html": "<div>\n<style scoped>\n    .dataframe tbody tr th:only-of-type {\n        vertical-align: middle;\n    }\n\n    .dataframe tbody tr th {\n        vertical-align: top;\n    }\n\n    .dataframe thead th {\n        text-align: right;\n    }\n</style>\n<table border=\"1\" class=\"dataframe\">\n  <thead>\n    <tr style=\"text-align: right;\">\n      <th></th>\n      <th>Unnamed: 0</th>\n      <th>text</th>\n      <th>label</th>\n      <th>probabilities</th>\n    </tr>\n  </thead>\n  <tbody>\n    <tr>\n      <th>0</th>\n      <td>0</td>\n      <td>coronavirus outbreak live updates  odisha conf...</td>\n      <td>0</td>\n      <td>0.000490</td>\n    </tr>\n    <tr>\n      <th>1</th>\n      <td>1</td>\n      <td>for today  may    here s how to follow the lat...</td>\n      <td>0</td>\n      <td>0.011021</td>\n    </tr>\n    <tr>\n      <th>2</th>\n      <td>2</td>\n      <td>coronavirus outbreak  round the clock updates ...</td>\n      <td>0</td>\n      <td>0.015877</td>\n    </tr>\n    <tr>\n      <th>3</th>\n      <td>3</td>\n      <td>watch live  gov  phil murphy will speak at   p...</td>\n      <td>0</td>\n      <td>0.001323</td>\n    </tr>\n    <tr>\n      <th>4</th>\n      <td>4</td>\n      <td>to all my friends in the people s republic of ...</td>\n      <td>0</td>\n      <td>0.001574</td>\n    </tr>\n  </tbody>\n</table>\n</div>"
     },
     "metadata": {},
     "execution_count": 42
    }
   ],
   "source": [
    "probs.head()"
   ]
  },
  {
   "cell_type": "code",
   "execution_count": 43,
   "metadata": {},
   "outputs": [
    {
     "output_type": "execute_result",
     "data": {
      "text/plain": [
       "                                                text  label  raw_sentiment  \\\n",
       "0  coronavirus outbreak live updates  odisha conf...      0        -0.0772   \n",
       "1  for today  may    here s how to follow the lat...      0         0.0000   \n",
       "2  coronavirus outbreak  round the clock updates ...      0         0.0000   \n",
       "3  watch live  gov  phil murphy will speak at   p...      0         0.0000   \n",
       "4  to all my friends in the people s republic of ...      0         0.4767   \n",
       "\n",
       "   sentiment  probability  \n",
       "0         -1     0.000490  \n",
       "1          0     0.011021  \n",
       "2          0     0.015877  \n",
       "3          0     0.001323  \n",
       "4          1     0.001574  "
      ],
      "text/html": "<div>\n<style scoped>\n    .dataframe tbody tr th:only-of-type {\n        vertical-align: middle;\n    }\n\n    .dataframe tbody tr th {\n        vertical-align: top;\n    }\n\n    .dataframe thead th {\n        text-align: right;\n    }\n</style>\n<table border=\"1\" class=\"dataframe\">\n  <thead>\n    <tr style=\"text-align: right;\">\n      <th></th>\n      <th>text</th>\n      <th>label</th>\n      <th>raw_sentiment</th>\n      <th>sentiment</th>\n      <th>probability</th>\n    </tr>\n  </thead>\n  <tbody>\n    <tr>\n      <th>0</th>\n      <td>coronavirus outbreak live updates  odisha conf...</td>\n      <td>0</td>\n      <td>-0.0772</td>\n      <td>-1</td>\n      <td>0.000490</td>\n    </tr>\n    <tr>\n      <th>1</th>\n      <td>for today  may    here s how to follow the lat...</td>\n      <td>0</td>\n      <td>0.0000</td>\n      <td>0</td>\n      <td>0.011021</td>\n    </tr>\n    <tr>\n      <th>2</th>\n      <td>coronavirus outbreak  round the clock updates ...</td>\n      <td>0</td>\n      <td>0.0000</td>\n      <td>0</td>\n      <td>0.015877</td>\n    </tr>\n    <tr>\n      <th>3</th>\n      <td>watch live  gov  phil murphy will speak at   p...</td>\n      <td>0</td>\n      <td>0.0000</td>\n      <td>0</td>\n      <td>0.001323</td>\n    </tr>\n    <tr>\n      <th>4</th>\n      <td>to all my friends in the people s republic of ...</td>\n      <td>0</td>\n      <td>0.4767</td>\n      <td>1</td>\n      <td>0.001574</td>\n    </tr>\n  </tbody>\n</table>\n</div>"
     },
     "metadata": {},
     "execution_count": 43
    }
   ],
   "source": [
    "df[\"probability\"] = probs.probabilities\n",
    "df.head()"
   ]
  },
  {
   "cell_type": "code",
   "execution_count": 44,
   "metadata": {},
   "outputs": [
    {
     "output_type": "stream",
     "name": "stdout",
     "text": [
      "<class 'pandas.core.frame.DataFrame'>\nRangeIndex: 221461 entries, 0 to 221460\nData columns (total 37 columns):\n #   Column                      Non-Null Count   Dtype  \n---  ------                      --------------   -----  \n 0   Unnamed: 0                  221461 non-null  int64  \n 1   created_at                  221461 non-null  object \n 2   hashtags                    40892 non-null   object \n 3   media                       33124 non-null   object \n 4   urls                        104470 non-null  object \n 5   favorite_count              221461 non-null  int64  \n 6   id                          221461 non-null  int64  \n 7   in_reply_to_screen_name     107089 non-null  object \n 8   in_reply_to_status_id       105071 non-null  float64\n 9   in_reply_to_user_id         107089 non-null  float64\n 10  lang                        221461 non-null  object \n 11  place                       4724 non-null    object \n 12  possibly_sensitive          118759 non-null  object \n 13  retweet_count               221461 non-null  int64  \n 14  retweet_id                  0 non-null       float64\n 15  retweet_screen_name         0 non-null       float64\n 16  source                      221461 non-null  object \n 17  text                        221461 non-null  object \n 18  tweet_url                   221461 non-null  object \n 19  user_created_at             221461 non-null  object \n 20  user_screen_name            221461 non-null  object \n 21  user_default_profile_image  221461 non-null  bool   \n 22  user_description            196747 non-null  object \n 23  user_favourites_count       221461 non-null  int64  \n 24  user_followers_count        221461 non-null  int64  \n 25  user_friends_count          221461 non-null  int64  \n 26  user_listed_count           221461 non-null  int64  \n 27  user_location               165696 non-null  object \n 28  user_name                   221449 non-null  object \n 29  user_screen_name.1          221461 non-null  object \n 30  user_statuses_count         221461 non-null  int64  \n 31  user_time_zone              0 non-null       float64\n 32  user_urls                   107757 non-null  object \n 33  user_verified               221461 non-null  bool   \n 34  label                       221461 non-null  int64  \n 35  month                       221461 non-null  int64  \n 36  year                        221461 non-null  int64  \ndtypes: bool(2), float64(5), int64(12), object(18)\nmemory usage: 59.6+ MB\n"
     ]
    }
   ],
   "source": [
    "df2 = pd.read_csv(\"for_tobi_f.csv\",lineterminator='\\n')\n",
    "df2.info()"
   ]
  },
  {
   "cell_type": "code",
   "execution_count": 45,
   "metadata": {},
   "outputs": [
    {
     "output_type": "stream",
     "name": "stdout",
     "text": [
      "<class 'pandas.core.frame.DataFrame'>\nInt64Index: 221461 entries, 0 to 221460\nData columns (total 37 columns):\n #   Column                      Non-Null Count   Dtype  \n---  ------                      --------------   -----  \n 0   Unnamed: 0                  221461 non-null  int64  \n 1   created_at                  221461 non-null  object \n 2   hashtags                    40892 non-null   object \n 3   media                       33124 non-null   object \n 4   urls                        104470 non-null  object \n 5   favorite_count              221461 non-null  int64  \n 6   id                          221461 non-null  int64  \n 7   in_reply_to_screen_name     107089 non-null  object \n 8   in_reply_to_status_id       105071 non-null  float64\n 9   in_reply_to_user_id         107089 non-null  float64\n 10  lang                        221461 non-null  object \n 11  place                       4724 non-null    object \n 12  possibly_sensitive          118759 non-null  object \n 13  retweet_count               221461 non-null  int64  \n 14  retweet_id                  0 non-null       float64\n 15  retweet_screen_name         0 non-null       float64\n 16  source                      221461 non-null  object \n 17  text                        221461 non-null  object \n 18  tweet_url                   221461 non-null  object \n 19  user_created_at             221461 non-null  object \n 20  user_screen_name            221461 non-null  object \n 21  user_default_profile_image  221461 non-null  bool   \n 22  user_description            196747 non-null  object \n 23  user_favourites_count       221461 non-null  int64  \n 24  user_followers_count        221461 non-null  int64  \n 25  user_friends_count          221461 non-null  int64  \n 26  user_listed_count           221461 non-null  int64  \n 27  user_location               165696 non-null  object \n 28  user_name                   221449 non-null  object \n 29  user_screen_name.1          221461 non-null  object \n 30  user_statuses_count         221461 non-null  int64  \n 31  user_time_zone              0 non-null       float64\n 32  user_urls                   107757 non-null  object \n 33  user_verified               221461 non-null  bool   \n 34  label                       221461 non-null  int64  \n 35  month                       221461 non-null  int64  \n 36  year                        221461 non-null  int64  \ndtypes: bool(2), float64(5), int64(12), object(18)\nmemory usage: 61.2+ MB\n"
     ]
    }
   ],
   "source": [
    "lang_bool = df2.lang == \"en\"\n",
    "df2 = df2.loc[lang_bool,:]\n",
    "df2.info()"
   ]
  },
  {
   "cell_type": "code",
   "execution_count": 46,
   "metadata": {},
   "outputs": [
    {
     "output_type": "execute_result",
     "data": {
      "text/plain": [
       "                  created_at hashtags  \\\n",
       "0  2020-05-01 03:24:58+00:00      NaN   \n",
       "1  2020-05-01 11:35:09+00:00      NaN   \n",
       "2  2020-05-01 06:56:33+00:00      NaN   \n",
       "3  2020-05-01 14:28:45+00:00      NaN   \n",
       "4  2020-04-30 17:57:21+00:00      NaN   \n",
       "\n",
       "                                               media  \\\n",
       "0  https://twitter.com/worldnews911/status/125606...   \n",
       "1  https://twitter.com/nytimes/status/12561853840...   \n",
       "2                                                NaN   \n",
       "3                                                NaN   \n",
       "4                                                NaN   \n",
       "\n",
       "                                                urls  favorite_count  \\\n",
       "0  https://news.familysouq.net/coronavirus-outbre...               0   \n",
       "1  https://nyti.ms/2SG4zSv https://nyti.ms/2YlMmN...              89   \n",
       "2  https://www.thisdaylive.com/index.php/2020/05/...               2   \n",
       "3                            https://trib.al/shMX8l9               0   \n",
       "4  https://www.boston.com/news/coronavirus/2020/0...               0   \n",
       "\n",
       "                    id in_reply_to_screen_name  in_reply_to_status_id  \\\n",
       "0  1256062026260123648                     NaN                    NaN   \n",
       "1  1256185384050065408                     NaN                    NaN   \n",
       "2  1256115272114675712                     NaN                    NaN   \n",
       "3  1256229075687014400                     NaN                    NaN   \n",
       "4  1255919179984785410                     NaN                    NaN   \n",
       "\n",
       "   in_reply_to_user_id lang  ...   user_location                user_name  \\\n",
       "0                  NaN   en  ...             NaN  The Medical Weight Loss   \n",
       "1                  NaN   en  ...   New York City       The New York Times   \n",
       "2                  NaN   en  ...         Nigeria             THISDAY LIVE   \n",
       "3                  NaN   en  ...  Belleville, NJ      Belleville NJ Patch   \n",
       "4                  NaN   en  ...        Florida                      June   \n",
       "\n",
       "   user_screen_name.1  user_statuses_count  user_time_zone  \\\n",
       "0           MedicalWL                62227             NaN   \n",
       "1             nytimes               435062             NaN   \n",
       "2         THISDAYLIVE               118195             NaN   \n",
       "3     BellevillePatch                14869             NaN   \n",
       "4        June13462534                 2361             NaN   \n",
       "\n",
       "                                 user_urls user_verified label month  year  \n",
       "0        https://themedicalweightloss.com/         False     0     5  2020  \n",
       "1                  http://www.nytimes.com/          True     0     5  2020  \n",
       "2               http://www.thisdaylive.com         False     0     5  2020  \n",
       "3  https://patch.com/new-jersey/belleville         False     0     5  2020  \n",
       "4                                      NaN         False     0     4  2020  \n",
       "\n",
       "[5 rows x 36 columns]"
      ],
      "text/html": "<div>\n<style scoped>\n    .dataframe tbody tr th:only-of-type {\n        vertical-align: middle;\n    }\n\n    .dataframe tbody tr th {\n        vertical-align: top;\n    }\n\n    .dataframe thead th {\n        text-align: right;\n    }\n</style>\n<table border=\"1\" class=\"dataframe\">\n  <thead>\n    <tr style=\"text-align: right;\">\n      <th></th>\n      <th>created_at</th>\n      <th>hashtags</th>\n      <th>media</th>\n      <th>urls</th>\n      <th>favorite_count</th>\n      <th>id</th>\n      <th>in_reply_to_screen_name</th>\n      <th>in_reply_to_status_id</th>\n      <th>in_reply_to_user_id</th>\n      <th>lang</th>\n      <th>...</th>\n      <th>user_location</th>\n      <th>user_name</th>\n      <th>user_screen_name.1</th>\n      <th>user_statuses_count</th>\n      <th>user_time_zone</th>\n      <th>user_urls</th>\n      <th>user_verified</th>\n      <th>label</th>\n      <th>month</th>\n      <th>year</th>\n    </tr>\n  </thead>\n  <tbody>\n    <tr>\n      <th>0</th>\n      <td>2020-05-01 03:24:58+00:00</td>\n      <td>NaN</td>\n      <td>https://twitter.com/worldnews911/status/125606...</td>\n      <td>https://news.familysouq.net/coronavirus-outbre...</td>\n      <td>0</td>\n      <td>1256062026260123648</td>\n      <td>NaN</td>\n      <td>NaN</td>\n      <td>NaN</td>\n      <td>en</td>\n      <td>...</td>\n      <td>NaN</td>\n      <td>The Medical Weight Loss</td>\n      <td>MedicalWL</td>\n      <td>62227</td>\n      <td>NaN</td>\n      <td>https://themedicalweightloss.com/</td>\n      <td>False</td>\n      <td>0</td>\n      <td>5</td>\n      <td>2020</td>\n    </tr>\n    <tr>\n      <th>1</th>\n      <td>2020-05-01 11:35:09+00:00</td>\n      <td>NaN</td>\n      <td>https://twitter.com/nytimes/status/12561853840...</td>\n      <td>https://nyti.ms/2SG4zSv https://nyti.ms/2YlMmN...</td>\n      <td>89</td>\n      <td>1256185384050065408</td>\n      <td>NaN</td>\n      <td>NaN</td>\n      <td>NaN</td>\n      <td>en</td>\n      <td>...</td>\n      <td>New York City</td>\n      <td>The New York Times</td>\n      <td>nytimes</td>\n      <td>435062</td>\n      <td>NaN</td>\n      <td>http://www.nytimes.com/</td>\n      <td>True</td>\n      <td>0</td>\n      <td>5</td>\n      <td>2020</td>\n    </tr>\n    <tr>\n      <th>2</th>\n      <td>2020-05-01 06:56:33+00:00</td>\n      <td>NaN</td>\n      <td>NaN</td>\n      <td>https://www.thisdaylive.com/index.php/2020/05/...</td>\n      <td>2</td>\n      <td>1256115272114675712</td>\n      <td>NaN</td>\n      <td>NaN</td>\n      <td>NaN</td>\n      <td>en</td>\n      <td>...</td>\n      <td>Nigeria</td>\n      <td>THISDAY LIVE</td>\n      <td>THISDAYLIVE</td>\n      <td>118195</td>\n      <td>NaN</td>\n      <td>http://www.thisdaylive.com</td>\n      <td>False</td>\n      <td>0</td>\n      <td>5</td>\n      <td>2020</td>\n    </tr>\n    <tr>\n      <th>3</th>\n      <td>2020-05-01 14:28:45+00:00</td>\n      <td>NaN</td>\n      <td>NaN</td>\n      <td>https://trib.al/shMX8l9</td>\n      <td>0</td>\n      <td>1256229075687014400</td>\n      <td>NaN</td>\n      <td>NaN</td>\n      <td>NaN</td>\n      <td>en</td>\n      <td>...</td>\n      <td>Belleville, NJ</td>\n      <td>Belleville NJ Patch</td>\n      <td>BellevillePatch</td>\n      <td>14869</td>\n      <td>NaN</td>\n      <td>https://patch.com/new-jersey/belleville</td>\n      <td>False</td>\n      <td>0</td>\n      <td>5</td>\n      <td>2020</td>\n    </tr>\n    <tr>\n      <th>4</th>\n      <td>2020-04-30 17:57:21+00:00</td>\n      <td>NaN</td>\n      <td>NaN</td>\n      <td>https://www.boston.com/news/coronavirus/2020/0...</td>\n      <td>0</td>\n      <td>1255919179984785410</td>\n      <td>NaN</td>\n      <td>NaN</td>\n      <td>NaN</td>\n      <td>en</td>\n      <td>...</td>\n      <td>Florida</td>\n      <td>June</td>\n      <td>June13462534</td>\n      <td>2361</td>\n      <td>NaN</td>\n      <td>NaN</td>\n      <td>False</td>\n      <td>0</td>\n      <td>4</td>\n      <td>2020</td>\n    </tr>\n  </tbody>\n</table>\n<p>5 rows × 36 columns</p>\n</div>"
     },
     "metadata": {},
     "execution_count": 46
    }
   ],
   "source": [
    "df2 = df2.iloc[:,1:]\n",
    "df2.head()"
   ]
  },
  {
   "cell_type": "code",
   "execution_count": 47,
   "metadata": {},
   "outputs": [
    {
     "output_type": "stream",
     "name": "stdout",
     "text": [
      "<class 'pandas.core.frame.DataFrame'>\nRangeIndex: 221461 entries, 0 to 221460\nData columns (total 39 columns):\n #   Column                      Non-Null Count   Dtype  \n---  ------                      --------------   -----  \n 0   text                        221461 non-null  object \n 1   label                       221461 non-null  int64  \n 2   raw_sentiment               221461 non-null  float64\n 3   sentiment                   221461 non-null  int64  \n 4   probability                 221461 non-null  float64\n 5   created_at                  221461 non-null  object \n 6   hashtags                    40892 non-null   object \n 7   media                       33124 non-null   object \n 8   urls                        104470 non-null  object \n 9   favorite_count              221461 non-null  int64  \n 10  id                          221461 non-null  int64  \n 11  in_reply_to_screen_name     107089 non-null  object \n 12  in_reply_to_status_id       105071 non-null  float64\n 13  in_reply_to_user_id         107089 non-null  float64\n 14  lang                        221461 non-null  object \n 15  place                       4724 non-null    object \n 16  possibly_sensitive          118759 non-null  object \n 17  retweet_count               221461 non-null  int64  \n 18  retweet_id                  0 non-null       float64\n 19  retweet_screen_name         0 non-null       float64\n 20  source                      221461 non-null  object \n 21  tweet_url                   221461 non-null  object \n 22  user_created_at             221461 non-null  object \n 23  user_screen_name            221461 non-null  object \n 24  user_default_profile_image  221461 non-null  bool   \n 25  user_description            196747 non-null  object \n 26  user_favourites_count       221461 non-null  int64  \n 27  user_followers_count        221461 non-null  int64  \n 28  user_friends_count          221461 non-null  int64  \n 29  user_listed_count           221461 non-null  int64  \n 30  user_location               165696 non-null  object \n 31  user_name                   221449 non-null  object \n 32  user_screen_name.1          221461 non-null  object \n 33  user_statuses_count         221461 non-null  int64  \n 34  user_time_zone              0 non-null       float64\n 35  user_urls                   107757 non-null  object \n 36  user_verified               221461 non-null  bool   \n 37  month                       221461 non-null  int64  \n 38  year                        221461 non-null  int64  \ndtypes: bool(2), float64(7), int64(12), object(18)\nmemory usage: 62.9+ MB\nNone\n"
     ]
    }
   ],
   "source": [
    "df2.drop([\"text\",\"label\"], inplace = True, axis = 1)\n",
    "final = pd.concat([df, df2], axis = 1)\n",
    "print(final.info())\n",
    "final.to_csv(\"for_tobi_sentiment.csv\")"
   ]
  },
  {
   "cell_type": "code",
   "execution_count": 48,
   "metadata": {},
   "outputs": [
    {
     "output_type": "stream",
     "name": "stdout",
     "text": [
      "The median sentiment of the dataset is 0.0\n"
     ]
    }
   ],
   "source": [
    "print(f\"The median sentiment of the dataset is {np.median(final_scores)}\")"
   ]
  },
  {
   "source": [
    "Now the same thing, but for the second dataset."
   ],
   "cell_type": "markdown",
   "metadata": {}
  },
  {
   "cell_type": "code",
   "execution_count": 51,
   "metadata": {},
   "outputs": [],
   "source": [
    "df = pd.read_csv(\"english_test_with_labels.csv\")\n",
    "df = df.loc[:,[\"tweet\",\"label\"]]\n",
    "label_change = lambda x: 1 if x == \"fake\" else 0\n",
    "y = df.iloc[:,1]\n",
    "df.iloc[:,1] = y.map(label_change)"
   ]
  },
  {
   "cell_type": "code",
   "execution_count": 52,
   "metadata": {},
   "outputs": [
    {
     "output_type": "execute_result",
     "data": {
      "text/plain": [
       "                                               tweet  label\n",
       "0  Our daily update is published. States reported...      0\n",
       "1             Alfalfa is the only cure for COVID-19.      1\n",
       "2  President Trump Asked What He Would Do If He W...      1\n",
       "3  States reported 630 deaths. We are still seein...      0\n",
       "4  This is the sixth time a global health emergen...      0"
      ],
      "text/html": "<div>\n<style scoped>\n    .dataframe tbody tr th:only-of-type {\n        vertical-align: middle;\n    }\n\n    .dataframe tbody tr th {\n        vertical-align: top;\n    }\n\n    .dataframe thead th {\n        text-align: right;\n    }\n</style>\n<table border=\"1\" class=\"dataframe\">\n  <thead>\n    <tr style=\"text-align: right;\">\n      <th></th>\n      <th>tweet</th>\n      <th>label</th>\n    </tr>\n  </thead>\n  <tbody>\n    <tr>\n      <th>0</th>\n      <td>Our daily update is published. States reported...</td>\n      <td>0</td>\n    </tr>\n    <tr>\n      <th>1</th>\n      <td>Alfalfa is the only cure for COVID-19.</td>\n      <td>1</td>\n    </tr>\n    <tr>\n      <th>2</th>\n      <td>President Trump Asked What He Would Do If He W...</td>\n      <td>1</td>\n    </tr>\n    <tr>\n      <th>3</th>\n      <td>States reported 630 deaths. We are still seein...</td>\n      <td>0</td>\n    </tr>\n    <tr>\n      <th>4</th>\n      <td>This is the sixth time a global health emergen...</td>\n      <td>0</td>\n    </tr>\n  </tbody>\n</table>\n</div>"
     },
     "metadata": {},
     "execution_count": 52
    }
   ],
   "source": [
    "df.head()"
   ]
  },
  {
   "cell_type": "code",
   "execution_count": 53,
   "metadata": {},
   "outputs": [
    {
     "output_type": "stream",
     "name": "stdout",
     "text": [
      "<class 'pandas.core.frame.DataFrame'>\nRangeIndex: 2140 entries, 0 to 2139\nData columns (total 2 columns):\n #   Column  Non-Null Count  Dtype \n---  ------  --------------  ----- \n 0   tweet   2140 non-null   object\n 1   label   2140 non-null   int64 \ndtypes: int64(1), object(1)\nmemory usage: 33.6+ KB\n"
     ]
    }
   ],
   "source": [
    "df.info()"
   ]
  },
  {
   "cell_type": "code",
   "execution_count": 55,
   "metadata": {},
   "outputs": [
    {
     "output_type": "stream",
     "name": "stdout",
     "text": [
      "[0.0, 0.0, 0.0, -0.9042, 0.3182, -0.6369, -0.5504, 0.0, 0.3182, -0.5719]\nThe average sentiment of the dataset is 0.02262051401869159\n"
     ]
    }
   ],
   "source": [
    "model_sm = SentimentIntensityAnalyzer()\n",
    "final_scores = []\n",
    "X = df.tweet\n",
    "for phrase in X: \n",
    "    scores = model_sm.polarity_scores(phrase)\n",
    "    compound_scores = scores[\"compound\"]\n",
    "    final_scores.append(compound_scores)\n",
    "print(final_scores[:10])\n",
    "print(f\"The average sentiment of the dataset is {np.mean(final_scores)}\")"
   ]
  },
  {
   "cell_type": "code",
   "execution_count": 56,
   "metadata": {},
   "outputs": [
    {
     "output_type": "execute_result",
     "data": {
      "text/plain": [
       "                                               tweet  label  raw_sentiment\n",
       "0  Our daily update is published. States reported...      0         0.0000\n",
       "1             Alfalfa is the only cure for COVID-19.      1         0.0000\n",
       "2  President Trump Asked What He Would Do If He W...      1         0.0000\n",
       "3  States reported 630 deaths. We are still seein...      0        -0.9042\n",
       "4  This is the sixth time a global health emergen...      0         0.3182"
      ],
      "text/html": "<div>\n<style scoped>\n    .dataframe tbody tr th:only-of-type {\n        vertical-align: middle;\n    }\n\n    .dataframe tbody tr th {\n        vertical-align: top;\n    }\n\n    .dataframe thead th {\n        text-align: right;\n    }\n</style>\n<table border=\"1\" class=\"dataframe\">\n  <thead>\n    <tr style=\"text-align: right;\">\n      <th></th>\n      <th>tweet</th>\n      <th>label</th>\n      <th>raw_sentiment</th>\n    </tr>\n  </thead>\n  <tbody>\n    <tr>\n      <th>0</th>\n      <td>Our daily update is published. States reported...</td>\n      <td>0</td>\n      <td>0.0000</td>\n    </tr>\n    <tr>\n      <th>1</th>\n      <td>Alfalfa is the only cure for COVID-19.</td>\n      <td>1</td>\n      <td>0.0000</td>\n    </tr>\n    <tr>\n      <th>2</th>\n      <td>President Trump Asked What He Would Do If He W...</td>\n      <td>1</td>\n      <td>0.0000</td>\n    </tr>\n    <tr>\n      <th>3</th>\n      <td>States reported 630 deaths. We are still seein...</td>\n      <td>0</td>\n      <td>-0.9042</td>\n    </tr>\n    <tr>\n      <th>4</th>\n      <td>This is the sixth time a global health emergen...</td>\n      <td>0</td>\n      <td>0.3182</td>\n    </tr>\n  </tbody>\n</table>\n</div>"
     },
     "metadata": {},
     "execution_count": 56
    }
   ],
   "source": [
    "# make the scores a new column \n",
    "df[\"raw_sentiment\"] = final_scores\n",
    "df.head()"
   ]
  },
  {
   "cell_type": "code",
   "execution_count": 59,
   "metadata": {},
   "outputs": [
    {
     "output_type": "execute_result",
     "data": {
      "text/plain": [
       "   Unnamed: 0                                              tweet  label  \\\n",
       "0           0  Our daily update is published. States reported...      0   \n",
       "1           1             Alfalfa is the only cure for COVID-19.      1   \n",
       "2           2  President Trump Asked What He Would Do If He W...      1   \n",
       "3           3  States reported 630 deaths. We are still seein...      0   \n",
       "4           4  This is the sixth time a global health emergen...      0   \n",
       "\n",
       "   probabilities  \n",
       "0       0.022320  \n",
       "1       0.880705  \n",
       "2       0.904610  \n",
       "3       0.007191  \n",
       "4       0.033745  "
      ],
      "text/html": "<div>\n<style scoped>\n    .dataframe tbody tr th:only-of-type {\n        vertical-align: middle;\n    }\n\n    .dataframe tbody tr th {\n        vertical-align: top;\n    }\n\n    .dataframe thead th {\n        text-align: right;\n    }\n</style>\n<table border=\"1\" class=\"dataframe\">\n  <thead>\n    <tr style=\"text-align: right;\">\n      <th></th>\n      <th>Unnamed: 0</th>\n      <th>tweet</th>\n      <th>label</th>\n      <th>probabilities</th>\n    </tr>\n  </thead>\n  <tbody>\n    <tr>\n      <th>0</th>\n      <td>0</td>\n      <td>Our daily update is published. States reported...</td>\n      <td>0</td>\n      <td>0.022320</td>\n    </tr>\n    <tr>\n      <th>1</th>\n      <td>1</td>\n      <td>Alfalfa is the only cure for COVID-19.</td>\n      <td>1</td>\n      <td>0.880705</td>\n    </tr>\n    <tr>\n      <th>2</th>\n      <td>2</td>\n      <td>President Trump Asked What He Would Do If He W...</td>\n      <td>1</td>\n      <td>0.904610</td>\n    </tr>\n    <tr>\n      <th>3</th>\n      <td>3</td>\n      <td>States reported 630 deaths. We are still seein...</td>\n      <td>0</td>\n      <td>0.007191</td>\n    </tr>\n    <tr>\n      <th>4</th>\n      <td>4</td>\n      <td>This is the sixth time a global health emergen...</td>\n      <td>0</td>\n      <td>0.033745</td>\n    </tr>\n  </tbody>\n</table>\n</div>"
     },
     "metadata": {},
     "execution_count": 59
    }
   ],
   "source": [
    "# probabilities merged with sentiment \n",
    "probs = pd.read_csv(\"dataset2_probabilities.csv\")\n",
    "probs.head()"
   ]
  },
  {
   "cell_type": "code",
   "execution_count": 60,
   "metadata": {},
   "outputs": [
    {
     "output_type": "execute_result",
     "data": {
      "text/plain": [
       "                                               tweet  label  raw_sentiment  \\\n",
       "0  Our daily update is published. States reported...      0         0.0000   \n",
       "1             Alfalfa is the only cure for COVID-19.      1         0.0000   \n",
       "2  President Trump Asked What He Would Do If He W...      1         0.0000   \n",
       "3  States reported 630 deaths. We are still seein...      0        -0.9042   \n",
       "4  This is the sixth time a global health emergen...      0         0.3182   \n",
       "\n",
       "   probability  \n",
       "0     0.022320  \n",
       "1     0.880705  \n",
       "2     0.904610  \n",
       "3     0.007191  \n",
       "4     0.033745  "
      ],
      "text/html": "<div>\n<style scoped>\n    .dataframe tbody tr th:only-of-type {\n        vertical-align: middle;\n    }\n\n    .dataframe tbody tr th {\n        vertical-align: top;\n    }\n\n    .dataframe thead th {\n        text-align: right;\n    }\n</style>\n<table border=\"1\" class=\"dataframe\">\n  <thead>\n    <tr style=\"text-align: right;\">\n      <th></th>\n      <th>tweet</th>\n      <th>label</th>\n      <th>raw_sentiment</th>\n      <th>probability</th>\n    </tr>\n  </thead>\n  <tbody>\n    <tr>\n      <th>0</th>\n      <td>Our daily update is published. States reported...</td>\n      <td>0</td>\n      <td>0.0000</td>\n      <td>0.022320</td>\n    </tr>\n    <tr>\n      <th>1</th>\n      <td>Alfalfa is the only cure for COVID-19.</td>\n      <td>1</td>\n      <td>0.0000</td>\n      <td>0.880705</td>\n    </tr>\n    <tr>\n      <th>2</th>\n      <td>President Trump Asked What He Would Do If He W...</td>\n      <td>1</td>\n      <td>0.0000</td>\n      <td>0.904610</td>\n    </tr>\n    <tr>\n      <th>3</th>\n      <td>States reported 630 deaths. We are still seein...</td>\n      <td>0</td>\n      <td>-0.9042</td>\n      <td>0.007191</td>\n    </tr>\n    <tr>\n      <th>4</th>\n      <td>This is the sixth time a global health emergen...</td>\n      <td>0</td>\n      <td>0.3182</td>\n      <td>0.033745</td>\n    </tr>\n  </tbody>\n</table>\n</div>"
     },
     "metadata": {},
     "execution_count": 60
    }
   ],
   "source": [
    "df[\"probability\"] = probs.probabilities\n",
    "df.head()"
   ]
  },
  {
   "cell_type": "code",
   "execution_count": 61,
   "metadata": {},
   "outputs": [
    {
     "output_type": "execute_result",
     "data": {
      "text/plain": [
       "array([[ 1.        , -0.08427296],\n",
       "       [-0.08427296,  1.        ]])"
      ]
     },
     "metadata": {},
     "execution_count": 61
    }
   ],
   "source": [
    "np.corrcoef(x = df.raw_sentiment, y = df.probability)"
   ]
  },
  {
   "cell_type": "code",
   "execution_count": 62,
   "metadata": {},
   "outputs": [
    {
     "output_type": "stream",
     "name": "stdout",
     "text": [
      "The median sentiment of the dataset is 0.0\n"
     ]
    }
   ],
   "source": [
    "print(f\"The median sentiment of the dataset is {np.median(final_scores)}\")"
   ]
  },
  {
   "cell_type": "code",
   "execution_count": 63,
   "metadata": {},
   "outputs": [],
   "source": [
    "df.to_csv(\"sentiment_probs_df2.csv\")"
   ]
  },
  {
   "cell_type": "code",
   "execution_count": null,
   "metadata": {},
   "outputs": [],
   "source": []
  }
 ]
}